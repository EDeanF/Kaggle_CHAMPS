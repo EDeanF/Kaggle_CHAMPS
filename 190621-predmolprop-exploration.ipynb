{
 "cells": [
  {
   "cell_type": "code",
   "execution_count": 1,
   "metadata": {
    "_cell_guid": "b1076dfc-b9ad-4769-8c92-a6c4dae69d19",
    "_uuid": "8f2839f25d086af736a60e9eeb907d3b93b6e0e5"
   },
   "outputs": [
    {
     "name": "stdout",
     "output_type": "stream",
     "text": [
      "['structures.csv', 'train.csv', 'potential_energy.csv', 'dipole_moments.csv', 'sample_submission.csv', 'scalar_coupling_contributions.csv', 'mulliken_charges.csv', 'structures', 'magnetic_shielding_tensors.csv', 'test.csv']\n"
     ]
    }
   ],
   "source": [
    "# This Python 3 environment comes with many helpful analytics libraries installed\n",
    "# It is defined by the kaggle/python docker image: https://github.com/kaggle/docker-python\n",
    "# For example, here's several helpful packages to load in \n",
    "\n",
    "import numpy as np # linear algebra\n",
    "import pandas as pd # data processing, CSV file I/O (e.g. pd.read_csv)\n",
    "\n",
    "import matplotlib.pyplot as plt\n",
    "import seaborn as sns\n",
    "%matplotlib inline\n",
    "\n",
    "# Input data files are available in the \"../input/\" directory.\n",
    "# For example, running this (by clicking run or pressing Shift+Enter) will list the files in the input directory\n",
    "\n",
    "import os\n",
    "print(os.listdir(\"../input\"))\n",
    "\n",
    "# Any results you write to the current directory are saved as output."
   ]
  },
  {
   "cell_type": "code",
   "execution_count": 2,
   "metadata": {
    "_cell_guid": "79c7e3d0-c299-4dcb-8224-4455121ee9b0",
    "_uuid": "d629ff2d2480ee46fbb7e2d37f6b5fab8052498a"
   },
   "outputs": [],
   "source": [
    "# import data\n",
    "train = pd.read_csv(\"../input/train.csv\")\n",
    "test = pd.read_csv(\"../input/test.csv\")\n",
    "structures = pd.read_csv(\"../input/structures.csv\")"
   ]
  },
  {
   "cell_type": "markdown",
   "metadata": {},
   "source": [
    "It's annoying to print the head of a Dataframe in stdout because it will often truncate the columns, so let's write a function to force it to print all columns."
   ]
  },
  {
   "cell_type": "code",
   "execution_count": 3,
   "metadata": {},
   "outputs": [
    {
     "name": "stdout",
     "output_type": "stream",
     "text": [
      "   id     molecule_name  atom_index_0  atom_index_1  type  scalar_coupling_constant\n",
      "0   0  dsgdb9nsd_000001             1             0  1JHC                   84.8076\n",
      "1   1  dsgdb9nsd_000001             1             2  2JHH                  -11.2570\n",
      "2   2  dsgdb9nsd_000001             1             3  2JHH                  -11.2548\n",
      "3   3  dsgdb9nsd_000001             1             4  2JHH                  -11.2543\n",
      "4   4  dsgdb9nsd_000001             2             0  1JHC                   84.8074\n"
     ]
    }
   ],
   "source": [
    "def PrintDataframe(df):\n",
    "    print(df.to_string())\n",
    "\n",
    "PrintDataframe(train.head())"
   ]
  },
  {
   "cell_type": "code",
   "execution_count": 4,
   "metadata": {},
   "outputs": [
    {
     "data": {
      "text/html": [
       "<div>\n",
       "<style scoped>\n",
       "    .dataframe tbody tr th:only-of-type {\n",
       "        vertical-align: middle;\n",
       "    }\n",
       "\n",
       "    .dataframe tbody tr th {\n",
       "        vertical-align: top;\n",
       "    }\n",
       "\n",
       "    .dataframe thead th {\n",
       "        text-align: right;\n",
       "    }\n",
       "</style>\n",
       "<table border=\"1\" class=\"dataframe\">\n",
       "  <thead>\n",
       "    <tr style=\"text-align: right;\">\n",
       "      <th></th>\n",
       "      <th>id</th>\n",
       "      <th>molecule_name</th>\n",
       "      <th>atom_index_0</th>\n",
       "      <th>atom_index_1</th>\n",
       "      <th>type</th>\n",
       "      <th>scalar_coupling_constant</th>\n",
       "    </tr>\n",
       "  </thead>\n",
       "  <tbody>\n",
       "    <tr>\n",
       "      <td>0</td>\n",
       "      <td>0</td>\n",
       "      <td>dsgdb9nsd_000001</td>\n",
       "      <td>1</td>\n",
       "      <td>0</td>\n",
       "      <td>1JHC</td>\n",
       "      <td>84.8076</td>\n",
       "    </tr>\n",
       "    <tr>\n",
       "      <td>1</td>\n",
       "      <td>1</td>\n",
       "      <td>dsgdb9nsd_000001</td>\n",
       "      <td>1</td>\n",
       "      <td>2</td>\n",
       "      <td>2JHH</td>\n",
       "      <td>-11.2570</td>\n",
       "    </tr>\n",
       "    <tr>\n",
       "      <td>2</td>\n",
       "      <td>2</td>\n",
       "      <td>dsgdb9nsd_000001</td>\n",
       "      <td>1</td>\n",
       "      <td>3</td>\n",
       "      <td>2JHH</td>\n",
       "      <td>-11.2548</td>\n",
       "    </tr>\n",
       "    <tr>\n",
       "      <td>3</td>\n",
       "      <td>3</td>\n",
       "      <td>dsgdb9nsd_000001</td>\n",
       "      <td>1</td>\n",
       "      <td>4</td>\n",
       "      <td>2JHH</td>\n",
       "      <td>-11.2543</td>\n",
       "    </tr>\n",
       "    <tr>\n",
       "      <td>4</td>\n",
       "      <td>4</td>\n",
       "      <td>dsgdb9nsd_000001</td>\n",
       "      <td>2</td>\n",
       "      <td>0</td>\n",
       "      <td>1JHC</td>\n",
       "      <td>84.8074</td>\n",
       "    </tr>\n",
       "  </tbody>\n",
       "</table>\n",
       "</div>"
      ],
      "text/plain": [
       "   id     molecule_name  atom_index_0  atom_index_1  type  \\\n",
       "0   0  dsgdb9nsd_000001             1             0  1JHC   \n",
       "1   1  dsgdb9nsd_000001             1             2  2JHH   \n",
       "2   2  dsgdb9nsd_000001             1             3  2JHH   \n",
       "3   3  dsgdb9nsd_000001             1             4  2JHH   \n",
       "4   4  dsgdb9nsd_000001             2             0  1JHC   \n",
       "\n",
       "   scalar_coupling_constant  \n",
       "0                   84.8076  \n",
       "1                  -11.2570  \n",
       "2                  -11.2548  \n",
       "3                  -11.2543  \n",
       "4                   84.8074  "
      ]
     },
     "execution_count": 4,
     "metadata": {},
     "output_type": "execute_result"
    }
   ],
   "source": [
    "train.head()"
   ]
  },
  {
   "cell_type": "markdown",
   "metadata": {},
   "source": [
    "Let's find the number of molecule types, and how many times they appear. Interestingly, the value counts appear normally distributed. In retrospect, this information may not be so useful, since the molecule name will not be used a feature. According to the competition data description, \"...no molecule in the training data is found in the test data.\""
   ]
  },
  {
   "cell_type": "code",
   "execution_count": 5,
   "metadata": {},
   "outputs": [
    {
     "name": "stdout",
     "output_type": "stream",
     "text": [
      "number of unique molecules = 85003\n"
     ]
    },
    {
     "data": {
      "image/png": "[encoded data removed]",
      "text/plain": [
       "<Figure size 216x216 with 1 Axes>"
      ]
     },
     "metadata": {
      "needs_background": "light"
     },
     "output_type": "display_data"
    }
   ],
   "source": [
    "# analyze molecule types\n",
    "mol_name_col = train.molecule_name\n",
    "print(\"number of unique molecules =\",len(mol_name_col.unique()))\n",
    "plt.figure(figsize=(3,3))\n",
    "plt.ylabel('counts')\n",
    "plt.xlabel('number of times a molecule appears')\n",
    "plt.title('Train')\n",
    "sns.distplot(mol_name_col.value_counts().values,kde=False,bins=range(120))\n",
    "# cleanup\n",
    "del mol_name_col"
   ]
  },
  {
   "cell_type": "code",
   "execution_count": 6,
   "metadata": {},
   "outputs": [
    {
     "name": "stdout",
     "output_type": "stream",
     "text": [
      "number of unique molecules = 45772\n"
     ]
    },
    {
     "data": {
      "image/png": "[encoded data removed]",
      "text/plain": [
       "<Figure size 216x216 with 1 Axes>"
      ]
     },
     "metadata": {
      "needs_background": "light"
     },
     "output_type": "display_data"
    }
   ],
   "source": [
    "# analyze molecule types\n",
    "mol_name_col = test.molecule_name\n",
    "print(\"number of unique molecules =\",len(mol_name_col.unique()))\n",
    "plt.figure(figsize=(3,3))\n",
    "plt.ylabel('counts')\n",
    "plt.xlabel('number of times a molecule appears')\n",
    "plt.title('Test')\n",
    "sns.distplot(mol_name_col.value_counts().values,kde=False,bins=range(120))\n",
    "# cleanup\n",
    "del mol_name_col"
   ]
  },
  {
   "cell_type": "markdown",
   "metadata": {},
   "source": [
    "Next consider the coupling types. Notice that they are very unbalanced, but train and test are unbalanced in the same way."
   ]
  },
  {
   "cell_type": "code",
   "execution_count": 7,
   "metadata": {},
   "outputs": [
    {
     "name": "stdout",
     "output_type": "stream",
     "text": [
      "3JHC    1510379\n",
      "2JHC    1140674\n",
      "1JHC     709416\n",
      "3JHH     590611\n",
      "2JHH     378036\n",
      "3JHN     166415\n",
      "2JHN     119253\n",
      "1JHN      43363\n",
      "Name: type, dtype: int64 \n",
      "\n",
      "3JHC    811999\n",
      "2JHC    613138\n",
      "1JHC    380609\n",
      "3JHH    317435\n",
      "2JHH    203126\n",
      "3JHN     90616\n",
      "2JHN     64424\n",
      "1JHN     24195\n",
      "Name: type, dtype: int64 \n",
      "\n"
     ]
    },
    {
     "data": {
      "image/png": "[encoded data removed]",
      "text/plain": [
       "<Figure size 720x288 with 2 Axes>"
      ]
     },
     "metadata": {
      "needs_background": "light"
     },
     "output_type": "display_data"
    }
   ],
   "source": [
    "# look at couping types\n",
    "def VisualizeCounts(*cols):\n",
    "    \"\"\"\n",
    "    takes a dataframe column (i.e. a Series)\n",
    "    prints the counts and graphs \n",
    "    \"\"\"\n",
    "    fig, axs = plt.subplots(ncols=len(cols), figsize=(5*len(cols), 4))\n",
    "    titles = ['train','test']\n",
    "    for i,col in enumerate(cols):\n",
    "        print(col.value_counts(),'\\n')\n",
    "        sns.countplot(col,ax = axs[i], order = sorted(col.unique()))\n",
    "        axs[i].title.set_text(titles[i])\n",
    "\n",
    "VisualizeCounts(train.type,test.type)"
   ]
  },
  {
   "cell_type": "markdown",
   "metadata": {},
   "source": [
    "If we consider the scalar coupling values, we see that they are basically clustered around 0, with a peak at around 80."
   ]
  },
  {
   "cell_type": "code",
   "execution_count": 8,
   "metadata": {},
   "outputs": [
    {
     "data": {
      "text/plain": [
       "<matplotlib.axes._subplots.AxesSubplot at 0x7f82dd7bad68>"
      ]
     },
     "execution_count": 8,
     "metadata": {},
     "output_type": "execute_result"
    },
    {
     "data": {
      "image/png": "[encoded data removed]",
      "text/plain": [
       "<Figure size 432x288 with 1 Axes>"
      ]
     },
     "metadata": {
      "needs_background": "light"
     },
     "output_type": "display_data"
    }
   ],
   "source": [
    "# looking at scalar_coupling values\n",
    "sns.distplot(train.scalar_coupling_constant)"
   ]
  },
  {
   "cell_type": "markdown",
   "metadata": {},
   "source": [
    "Let's see how well the coupling type corresponds to the coupling constant.\n",
    "\n",
    "Note that the coupling type can be easily interpreted. The number prefix tells you how many bonds there are between the two atoms; the last two letters are the two elements involved. For example, 1JHC, means that the coupling is between one hydrogen and one carbon atom, and there is only one bond between them. \n",
    "\n",
    "Since the coupling strength is inversely proportional to the number of bonds, 1JHN and 1JHC have the strongest coupling. \n",
    "\n",
    "All of the coupling constants are positive except for 2JHH, which is negative. \n",
    "\n",
    "Note that since the maximum number of bonds is three, there are at most two atoms in between the atoms of interest. "
   ]
  },
  {
   "cell_type": "code",
   "execution_count": 9,
   "metadata": {},
   "outputs": [
    {
     "data": {
      "image/png": "[encoded data removed]",
      "text/plain": [
       "<Figure size 1728x216 with 8 Axes>"
      ]
     },
     "metadata": {
      "needs_background": "light"
     },
     "output_type": "display_data"
    }
   ],
   "source": [
    "g = sns.FacetGrid(train, col=\"type\", col_order = sorted(train.type.unique()),sharex=False,sharey=False)\n",
    "g.map(sns.distplot, \"scalar_coupling_constant\");"
   ]
  },
  {
   "cell_type": "markdown",
   "metadata": {},
   "source": [
    "We can extract the number of bonds and the atom types just using the coupling type. Note that the first atom in the coupling type is always H. You can confirm by yourself (using some code further down that extracts the atom type from the structures data) that atom_0 is always H. Therefore, we need only extract atom_type_1."
   ]
  },
  {
   "cell_type": "code",
   "execution_count": 10,
   "metadata": {},
   "outputs": [
    {
     "name": "stdout",
     "output_type": "stream",
     "text": [
      "   id     molecule_name  atom_index_0  atom_index_1  scalar_coupling_constant  num_bonds atom_1_type\n",
      "0   0  dsgdb9nsd_000001             1             0                   84.8076          1           C\n",
      "1   1  dsgdb9nsd_000001             1             2                  -11.2570          2           H\n",
      "2   2  dsgdb9nsd_000001             1             3                  -11.2548          2           H\n",
      "3   3  dsgdb9nsd_000001             1             4                  -11.2543          2           H\n",
      "4   4  dsgdb9nsd_000001             2             0                   84.8074          1           C\n"
     ]
    }
   ],
   "source": [
    "def DecomposeType(df):\n",
    "    df['num_bonds'] = df.type.map(lambda s: int(s[0]))\n",
    "    df['atom_1_type'] = df.type.map(lambda s: s[-1])\n",
    "    df.drop(columns='type',inplace=True)\n",
    "\n",
    "\n",
    "DecomposeType(train)\n",
    "DecomposeType(test)\n",
    "\n",
    "PrintDataframe(train.head())"
   ]
  },
  {
   "cell_type": "markdown",
   "metadata": {},
   "source": [
    "Let's see what we can get out of structures"
   ]
  },
  {
   "cell_type": "code",
   "execution_count": 11,
   "metadata": {},
   "outputs": [
    {
     "name": "stdout",
     "output_type": "stream",
     "text": [
      "      molecule_name  atom_index atom         x         y         z\n",
      "0  dsgdb9nsd_000001           0    C -0.012698  1.085804  0.008001\n",
      "1  dsgdb9nsd_000001           1    H  0.002150 -0.006031  0.001976\n",
      "2  dsgdb9nsd_000001           2    H  1.011731  1.463751  0.000277\n",
      "3  dsgdb9nsd_000001           3    H -0.540815  1.447527 -0.876644\n",
      "4  dsgdb9nsd_000001           4    H -0.523814  1.437933  0.906397\n"
     ]
    }
   ],
   "source": [
    "PrintDataframe(structures.head())"
   ]
  },
  {
   "cell_type": "markdown",
   "metadata": {},
   "source": [
    "The most obvious feature to extract is the distance between atom 0 and atom 1. I copied the method in this [kernel](https://www.kaggle.com/seriousran/just-speed-up-calculate-distance-from-benchmark) by Chanran Kim"
   ]
  },
  {
   "cell_type": "code",
   "execution_count": 12,
   "metadata": {},
   "outputs": [],
   "source": [
    "def map_atom_info(df, atom_idx):\n",
    "    df = pd.merge(df, structures, how = 'left',\n",
    "                  left_on  = ['molecule_name', f'atom_index_{atom_idx}'],\n",
    "                  right_on = ['molecule_name',  'atom_index'])\n",
    "    \n",
    "    df = df.drop(['atom_index','atom'], axis=1)\n",
    "    df = df.rename(columns={'x': f'x_{atom_idx}',\n",
    "                            'y': f'y_{atom_idx}',\n",
    "                            'z': f'z_{atom_idx}'})\n",
    "    return df\n",
    "\n",
    "train = map_atom_info(train, 0)\n",
    "train = map_atom_info(train, 1)\n",
    "\n",
    "test = map_atom_info(test, 0)\n",
    "test = map_atom_info(test, 1)"
   ]
  },
  {
   "cell_type": "code",
   "execution_count": 13,
   "metadata": {},
   "outputs": [
    {
     "name": "stdout",
     "output_type": "stream",
     "text": [
      "   id     molecule_name  atom_index_0  atom_index_1  scalar_coupling_constant  num_bonds atom_1_type  space_dr\n",
      "0   0  dsgdb9nsd_000001             1             0                   84.8076          1           C  1.091953\n",
      "1   1  dsgdb9nsd_000001             1             2                  -11.2570          2           H  1.783120\n",
      "2   2  dsgdb9nsd_000001             1             3                  -11.2548          2           H  1.783147\n",
      "3   3  dsgdb9nsd_000001             1             4                  -11.2543          2           H  1.783157\n",
      "4   4  dsgdb9nsd_000001             2             0                   84.8074          1           C  1.091952\n"
     ]
    }
   ],
   "source": [
    "train_r0 = train[['x_0', 'y_0', 'z_0']].values\n",
    "train_r1 = train[['x_1', 'y_1', 'z_1']].values\n",
    "test_r0 = test[['x_0', 'y_0', 'z_0']].values\n",
    "test_r1 = test[['x_1', 'y_1', 'z_1']].values\n",
    "\n",
    "# calculate through space distance\n",
    "train['space_dr'] = np.linalg.norm(train_r0 - train_r1, axis=1)\n",
    "test['space_dr'] = np.linalg.norm(test_r0 - test_r1, axis=1)\n",
    "\n",
    "# drop coordinates\n",
    "train.drop(columns = ['x_0', 'y_0', 'z_0','x_1', 'y_1', 'z_1'], inplace = True)\n",
    "test.drop(columns = ['x_0', 'y_0', 'z_0','x_1', 'y_1', 'z_1'], inplace = True)\n",
    "\n",
    "PrintDataframe(train.head())"
   ]
  },
  {
   "cell_type": "markdown",
   "metadata": {},
   "source": [
    "It might also be useful to have an idea of what other atoms are in the molecule. "
   ]
  },
  {
   "cell_type": "code",
   "execution_count": 14,
   "metadata": {},
   "outputs": [
    {
     "name": "stdout",
     "output_type": "stream",
     "text": [
      "   id     molecule_name  atom_index_0  atom_index_1  scalar_coupling_constant  num_bonds atom_1_type  space_dr  num_C  num_H  num_N  num_O  num_F  total_atoms\n",
      "0   0  dsgdb9nsd_000001             1             0                   84.8076          1           C  1.091953    1.0    4.0    0.0    0.0    0.0          5.0\n",
      "1   1  dsgdb9nsd_000001             1             2                  -11.2570          2           H  1.783120    1.0    4.0    0.0    0.0    0.0          5.0\n",
      "2   2  dsgdb9nsd_000001             1             3                  -11.2548          2           H  1.783147    1.0    4.0    0.0    0.0    0.0          5.0\n",
      "3   3  dsgdb9nsd_000001             1             4                  -11.2543          2           H  1.783157    1.0    4.0    0.0    0.0    0.0          5.0\n",
      "4   4  dsgdb9nsd_000001             2             0                   84.8074          1           C  1.091952    1.0    4.0    0.0    0.0    0.0          5.0\n"
     ]
    },
    {
     "data": {
      "image/png": "[encoded data removed]",
      "text/plain": [
       "<Figure size 216x216 with 1 Axes>"
      ]
     },
     "metadata": {
      "needs_background": "light"
     },
     "output_type": "display_data"
    }
   ],
   "source": [
    "# Group by molecule_name and atom, then use size() to count how many of each atom\n",
    "# Then use unstack to make the atom types, which groupby made into indices, into columns\n",
    "# Finally, because not all molecule contain all five atoms, fill NAs with 0\n",
    "structure_atoms=structures.groupby(['molecule_name','atom'],sort=False).size().unstack('atom').fillna(0)\n",
    "# calculate the total number of atoms\n",
    "structure_atoms['total_atoms']=structure_atoms.sum(axis=1)\n",
    "# remove index names (optional)\n",
    "structure_atoms.columns = structure_atoms.columns.set_names(None)\n",
    "structure_atoms.index=structure_atoms.index.set_names(None)\n",
    "# rename columns\n",
    "structure_atoms = structure_atoms.rename(columns={'C':'num_C','H':'num_H','N':'num_N',\n",
    "                                                  'O':'num_O','F':'num_F'})\n",
    "plt.figure(figsize=(3,3))\n",
    "#plt.hist(structure_atoms.total_atoms,)\n",
    "sns.distplot(structure_atoms.total_atoms,kde=False,bins=range(5,30))\n",
    "plt.ylabel('counts')\n",
    "plt.xlabel('number of atoms')\n",
    "\n",
    "# extend train and test\n",
    "train=pd.merge(train, structure_atoms, how = 'left', \n",
    "                     left_on  = ['molecule_name'], right_index = True)\n",
    "\n",
    "test=pd.merge(test, structure_atoms, how = 'left', \n",
    "                     left_on  = ['molecule_name'], right_index = True)\n",
    "\n",
    "PrintDataframe(train.head())"
   ]
  },
  {
   "cell_type": "code",
   "execution_count": 15,
   "metadata": {},
   "outputs": [
    {
     "data": {
      "text/html": [
       "<div>\n",
       "<style scoped>\n",
       "    .dataframe tbody tr th:only-of-type {\n",
       "        vertical-align: middle;\n",
       "    }\n",
       "\n",
       "    .dataframe tbody tr th {\n",
       "        vertical-align: top;\n",
       "    }\n",
       "\n",
       "    .dataframe thead th {\n",
       "        text-align: right;\n",
       "    }\n",
       "</style>\n",
       "<table border=\"1\" class=\"dataframe\">\n",
       "  <thead>\n",
       "    <tr style=\"text-align: right;\">\n",
       "      <th></th>\n",
       "      <th>num_C</th>\n",
       "      <th>num_H</th>\n",
       "      <th>num_N</th>\n",
       "      <th>num_O</th>\n",
       "      <th>num_F</th>\n",
       "      <th>total_atoms</th>\n",
       "    </tr>\n",
       "  </thead>\n",
       "  <tbody>\n",
       "    <tr>\n",
       "      <td>count</td>\n",
       "      <td>130775.000000</td>\n",
       "      <td>130775.000000</td>\n",
       "      <td>130775.000000</td>\n",
       "      <td>130775.000000</td>\n",
       "      <td>130775.000000</td>\n",
       "      <td>130775.000000</td>\n",
       "    </tr>\n",
       "    <tr>\n",
       "      <td>mean</td>\n",
       "      <td>6.359977</td>\n",
       "      <td>9.240199</td>\n",
       "      <td>1.012128</td>\n",
       "      <td>1.400780</td>\n",
       "      <td>0.022910</td>\n",
       "      <td>18.035993</td>\n",
       "    </tr>\n",
       "    <tr>\n",
       "      <td>std</td>\n",
       "      <td>1.228257</td>\n",
       "      <td>2.813601</td>\n",
       "      <td>1.074136</td>\n",
       "      <td>0.883499</td>\n",
       "      <td>0.214686</td>\n",
       "      <td>2.938363</td>\n",
       "    </tr>\n",
       "    <tr>\n",
       "      <td>min</td>\n",
       "      <td>0.000000</td>\n",
       "      <td>1.000000</td>\n",
       "      <td>0.000000</td>\n",
       "      <td>0.000000</td>\n",
       "      <td>0.000000</td>\n",
       "      <td>3.000000</td>\n",
       "    </tr>\n",
       "    <tr>\n",
       "      <td>25%</td>\n",
       "      <td>6.000000</td>\n",
       "      <td>7.000000</td>\n",
       "      <td>0.000000</td>\n",
       "      <td>1.000000</td>\n",
       "      <td>0.000000</td>\n",
       "      <td>16.000000</td>\n",
       "    </tr>\n",
       "    <tr>\n",
       "      <td>50%</td>\n",
       "      <td>6.000000</td>\n",
       "      <td>9.000000</td>\n",
       "      <td>1.000000</td>\n",
       "      <td>1.000000</td>\n",
       "      <td>0.000000</td>\n",
       "      <td>18.000000</td>\n",
       "    </tr>\n",
       "    <tr>\n",
       "      <td>75%</td>\n",
       "      <td>7.000000</td>\n",
       "      <td>11.000000</td>\n",
       "      <td>2.000000</td>\n",
       "      <td>2.000000</td>\n",
       "      <td>0.000000</td>\n",
       "      <td>20.000000</td>\n",
       "    </tr>\n",
       "    <tr>\n",
       "      <td>max</td>\n",
       "      <td>9.000000</td>\n",
       "      <td>20.000000</td>\n",
       "      <td>7.000000</td>\n",
       "      <td>5.000000</td>\n",
       "      <td>6.000000</td>\n",
       "      <td>29.000000</td>\n",
       "    </tr>\n",
       "  </tbody>\n",
       "</table>\n",
       "</div>"
      ],
      "text/plain": [
       "               num_C          num_H          num_N          num_O  \\\n",
       "count  130775.000000  130775.000000  130775.000000  130775.000000   \n",
       "mean        6.359977       9.240199       1.012128       1.400780   \n",
       "std         1.228257       2.813601       1.074136       0.883499   \n",
       "min         0.000000       1.000000       0.000000       0.000000   \n",
       "25%         6.000000       7.000000       0.000000       1.000000   \n",
       "50%         6.000000       9.000000       1.000000       1.000000   \n",
       "75%         7.000000      11.000000       2.000000       2.000000   \n",
       "max         9.000000      20.000000       7.000000       5.000000   \n",
       "\n",
       "               num_F    total_atoms  \n",
       "count  130775.000000  130775.000000  \n",
       "mean        0.022910      18.035993  \n",
       "std         0.214686       2.938363  \n",
       "min         0.000000       3.000000  \n",
       "25%         0.000000      16.000000  \n",
       "50%         0.000000      18.000000  \n",
       "75%         0.000000      20.000000  \n",
       "max         6.000000      29.000000  "
      ]
     },
     "execution_count": 15,
     "metadata": {},
     "output_type": "execute_result"
    }
   ],
   "source": [
    "structure_atoms.describe()"
   ]
  },
  {
   "cell_type": "markdown",
   "metadata": {},
   "source": [
    "We can then use this information to confirm that the number of times a molecule appears in either the training set or test set is an indication of the molecule size."
   ]
  },
  {
   "cell_type": "code",
   "execution_count": 16,
   "metadata": {},
   "outputs": [
    {
     "data": {
      "text/plain": [
       "Text(0.5, 0, 'number of atoms')"
      ]
     },
     "execution_count": 16,
     "metadata": {},
     "output_type": "execute_result"
    },
    {
     "data": {
      "image/png": "[encoded data removed]",
      "text/plain": [
       "<Figure size 216x216 with 1 Axes>"
      ]
     },
     "metadata": {
      "needs_background": "light"
     },
     "output_type": "display_data"
    }
   ],
   "source": [
    "# analyze molecule types\n",
    "mol_name_col = train.molecule_name\n",
    "mol_name_counts=mol_name_col.value_counts()\n",
    "merged=pd.merge(mol_name_counts, structure_atoms, how = 'left', left_index = True, right_index = True)\n",
    "plt.figure(figsize=(3,3))\n",
    "sns.scatterplot(x=\"total_atoms\",y=\"molecule_name\", data = merged)\n",
    "plt.ylabel('number appearances in train')\n",
    "plt.xlabel('number of atoms')"
   ]
  },
  {
   "cell_type": "code",
   "execution_count": 17,
   "metadata": {},
   "outputs": [
    {
     "data": {
      "text/plain": [
       "Text(0.5, 0, 'number of atoms')"
      ]
     },
     "execution_count": 17,
     "metadata": {},
     "output_type": "execute_result"
    },
    {
     "data": {
      "image/png": "[encoded data removed]",
      "text/plain": [
       "<Figure size 216x216 with 1 Axes>"
      ]
     },
     "metadata": {
      "needs_background": "light"
     },
     "output_type": "display_data"
    }
   ],
   "source": [
    "# analyze molecule types\n",
    "mol_name_col = test.molecule_name\n",
    "mol_name_counts=mol_name_col.value_counts()\n",
    "merged=pd.merge(mol_name_counts, structure_atoms, how = 'left', left_index = True, right_index = True)\n",
    "plt.figure(figsize=(3,3))\n",
    "sns.scatterplot(x=\"total_atoms\",y=\"molecule_name\", data = merged)\n",
    "plt.ylabel('number appearances in test')\n",
    "plt.xlabel('number of atoms')"
   ]
  }
 ],
 "metadata": {
  "kernelspec": {
   "display_name": "Python 3",
   "language": "python",
   "name": "python3"
  },
  "language_info": {
   "codemirror_mode": {
    "name": "ipython",
    "version": 3
   },
   "file_extension": ".py",
   "mimetype": "text/x-python",
   "name": "python",
   "nbconvert_exporter": "python",
   "pygments_lexer": "ipython3",
   "version": "3.6.6"
  }
 },
 "nbformat": 4,
 "nbformat_minor": 1
}
